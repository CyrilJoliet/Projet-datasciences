{
 "cells": [
  {
   "cell_type": "markdown",
   "id": "bfd3f39c-a0d1-4bad-80b9-63263d3e8af1",
   "metadata": {},
   "source": [
    "**Data Science PROJECT**"
   ]
  },
  {
   "cell_type": "code",
   "execution_count": null,
   "id": "b3616a21-442f-489e-bee6-1af9ef38a280",
   "metadata": {},
   "outputs": [],
   "source": []
  },
  {
   "cell_type": "code",
   "execution_count": null,
   "id": "3ef98308-69ce-436f-9ebe-e796829a245b",
   "metadata": {},
   "outputs": [],
   "source": []
  }
 ],
 "metadata": {
  "kernelspec": {
   "display_name": "Python 3 (ipykernel)",
   "language": "python",
   "name": "python3"
  },
  "language_info": {
   "codemirror_mode": {
    "name": "ipython",
    "version": 3
   },
   "file_extension": ".py",
   "mimetype": "text/x-python",
   "name": "python",
   "nbconvert_exporter": "python",
   "pygments_lexer": "ipython3",
   "version": "3.11.7"
  }
 },
 "nbformat": 4,
 "nbformat_minor": 5
}
